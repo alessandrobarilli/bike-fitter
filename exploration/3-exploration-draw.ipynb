{
 "cells": [
  {
   "cell_type": "code",
   "execution_count": 1,
   "metadata": {},
   "outputs": [],
   "source": [
    "import cv2\n",
    "import pandas as pd\n",
    "import numpy as np\n",
    "\n",
    "\n",
    "# set random seed for reproducibility\n",
    "np.random.seed(42)\n",
    "\n",
    "\n",
    "# screen resolution\n",
    "monitor_width = 3440\n",
    "monitor_height = 1440"
   ]
  },
  {
   "cell_type": "code",
   "execution_count": 2,
   "metadata": {},
   "outputs": [],
   "source": [
    "def rescale_frame(frame, scale):\n",
    "\n",
    "    width = int(frame.shape[1] * scale)\n",
    "    height = int(frame.shape[0] * scale)\n",
    "\n",
    "    return cv2.resize(frame, (width, height), interpolation=cv2.INTER_AREA)\n",
    "\n",
    "\n",
    "def find_scale_factor(frame, monitor_width, monitor_height):\n",
    "    \"\"\"\n",
    "    Rescales the frame if it is larger than the monitor \n",
    "    \"\"\"\n",
    "\n",
    "    frame_width = frame.shape[1]\n",
    "    frame_height = frame.shape[0]\n",
    "\n",
    "    if (frame_width > monitor_width) or (frame_height > monitor_height):\n",
    "        with_scale = monitor_width / frame_width\n",
    "        height_scale = monitor_height / frame_height\n",
    "        return min(with_scale, height_scale)\n",
    "\n",
    "    return 1\n",
    "    "
   ]
  },
  {
   "cell_type": "code",
   "execution_count": 3,
   "metadata": {},
   "outputs": [],
   "source": [
    "df_frames = pd.read_csv('../data/tmp_tracking.csv')"
   ]
  },
  {
   "cell_type": "markdown",
   "metadata": {},
   "source": [
    "### Pedal position for knee-over-pedal calculations"
   ]
  },
  {
   "cell_type": "code",
   "execution_count": 4,
   "metadata": {},
   "outputs": [
    {
     "name": "stdout",
     "output_type": "stream",
     "text": [
      "iteration 0 of 3 - Captured coordinates (163, 467), press any key to continue\n",
      "iteration 1 of 3 - Captured coordinates (161, 461), press any key to continue\n",
      "iteration 2 of 3 - Captured coordinates (163, 462), press any key to continue\n"
     ]
    }
   ],
   "source": [
    "pedal_coordinates_sampled = []\n",
    "frames_parallel_pedals = df_frames[df_frames['parallel_pedals'] == True]\n",
    "\n",
    "# sample a frame from frames_parallel_pedals\n",
    "sample_frames = frames_parallel_pedals.sample(3)['frame'].values\n",
    "\n",
    "for i, sample_frame in enumerate(sample_frames):\n",
    "    img = cv2.imread(f'../data/tmp_frames/frame_{sample_frame}.jpg')\n",
    "\n",
    "    # does not depend on the monitor resolution\n",
    "    scale = find_scale_factor(img, monitor_width, monitor_height)\n",
    "    img_rescaled = rescale_frame(img, scale=scale)\n",
    "\n",
    "\n",
    "    def capture_event(event, x, y, flags, param):\n",
    "        captured = False\n",
    "\n",
    "        if event == cv2.EVENT_MOUSEMOVE:\n",
    "\n",
    "            # make a copy of the image\n",
    "            img_rescaled_tmp = img_rescaled.copy()\n",
    "\n",
    "            # plot a green vertical and horizontal line\n",
    "            cv2.line(img_rescaled_tmp, (x, 0), (x, img_rescaled.shape[0]), (0, 255, 0), 1)\n",
    "            cv2.line(img_rescaled_tmp, (0, y), (img_rescaled.shape[1], y), (0, 255, 0), 1)\n",
    "\n",
    "            cv2.imshow(\"frame\", img_rescaled_tmp)\n",
    "\n",
    "        if event == cv2.EVENT_LBUTTONDOWN:\n",
    "            print(f\"iteration {i + 1} of 3 - Captured coordinates ({x}, {y}), press any key to continue\")\n",
    "            pedal_coordinates_sampled.append((x, y))\n",
    "            cv2.destroyWindow(\"frame\")\n",
    "\n",
    "\n",
    "    cv2.imshow('frame', img_rescaled)\n",
    "    cv2.setMouseCallback('frame', capture_event)\n",
    "\n",
    "    cv2.waitKey(0)\n",
    "    cv2.destroyAllWindows()\n",
    "    cv2.waitKey(1)\n",
    "\n",
    "pedal_coordinates = np.array(pedal_coordinates_sampled).mean(axis=0).astype(int)\n",
    "print(f\"Pedal coordinates obtained: {pedal_coordinates}\")"
   ]
  },
  {
   "cell_type": "code",
   "execution_count": null,
   "metadata": {},
   "outputs": [],
   "source": []
  }
 ],
 "metadata": {
  "kernelspec": {
   "display_name": "venv",
   "language": "python",
   "name": "python3"
  },
  "language_info": {
   "codemirror_mode": {
    "name": "ipython",
    "version": 3
   },
   "file_extension": ".py",
   "mimetype": "text/x-python",
   "name": "python",
   "nbconvert_exporter": "python",
   "pygments_lexer": "ipython3",
   "version": "3.11.5"
  }
 },
 "nbformat": 4,
 "nbformat_minor": 2
}
